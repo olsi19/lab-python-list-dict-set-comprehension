{
 "cells": [
  {
   "cell_type": "markdown",
   "id": "25d7736c-ba17-4aff-b6bb-66eba20fbf4e",
   "metadata": {},
   "source": [
    "# Lab | List, Dict and Set Comprehension"
   ]
  },
  {
   "cell_type": "markdown",
   "id": "7dd3cbde-675a-4b81-92c3-f728846dbe06",
   "metadata": {},
   "source": [
    "## Exercise: Managing Customer Orders Optimized with Comprehension"
   ]
  },
  {
   "cell_type": "markdown",
   "id": "4e156095-d462-49cd-9e00-01f0190d3d56",
   "metadata": {},
   "source": [
    "In the previous exercise, you developed a program to manage customer orders and inventory. Now, let's take it a step further and incorporate comprehension into your code.\n",
    "\n",
    "Follow the steps below to complete the exercise:\n",
    "\n",
    "1. Review your code from the previous exercise and identify areas where you can apply comprehension to simplify and streamline your code. \n",
    "\n",
    "    - *Hint: Apply it to initialize inventory, updating the inventory and printing the updated inventory.*\n",
    "    \n",
    "    - For example, in initializing the inventory, we could have:\n",
    "    \n",
    "        ```python\n",
    "        def initialize_inventory(products):\n",
    "            inventory = {product: int(input(f\"Enter the quantity of {product}s available: \")) for product in products}\n",
    "            return inventory\n",
    "\n",
    "        ```\n",
    "<br>\n",
    "    \n",
    "    \n",
    "2. Modify the function get_customer_orders so it prompts the user to enter the number of customer orders and gathers the product names using a loop and user input. Use comprehension.\n",
    "\n",
    "3. Add a new function to calculate the total price of the customer order. For each product in customer_orders, prompt the user to enter the price of that product. Use comprehension to calculate the total price. Note: assume that the user can only have 1 unit of each product.\n",
    "\n",
    "4. Modify the update_inventory function to remove the product from the inventory if its quantity becomes zero after fulfilling the customer orders. Use comprehension to filter out the products with a quantity of zero from the inventory.\n",
    "\n",
    "5. Print the total price of the customer order.\n",
    "\n",
    "Your code should produce output similar to the following:\n",
    "\n",
    "```python\n",
    "Enter the quantity of t-shirts available:  5\n",
    "Enter the quantity of mugs available:  4\n",
    "Enter the quantity of hats available:  3\n",
    "Enter the quantity of books available:  2\n",
    "Enter the quantity of keychains available:  1\n",
    "Enter the number of customer orders:  2\n",
    "Enter the name of a product that a customer wants to order:  hat\n",
    "Enter the name of a product that a customer wants to order:  keychain\n",
    "\n",
    "Order Statistics:\n",
    "Total Products Ordered: 2\n",
    "Percentage of Unique Products Ordered: 40.0\n",
    "\n",
    "Updated Inventory:\n",
    "t-shirt: 5\n",
    "mug: 4\n",
    "hat: 2\n",
    "book: 2\n",
    "Enter the price of keychain:  5\n",
    "Enter the price of hat:  10\n",
    "Total Price: 15.0\n",
    "\n",
    "```\n"
   ]
  },
  {
   "cell_type": "code",
   "execution_count": 15,
   "id": "a6571781-14b2-4a8b-b857-50693ac928ca",
   "metadata": {},
   "outputs": [],
   "source": [
    "def initialize_inventory(products):\n",
    "    inventory = {product: int(input(f\"Enter the quantity of {product} available:\")) for product in products}\n",
    "    return inventory"
   ]
  },
  {
   "cell_type": "code",
   "execution_count": 16,
   "id": "f0e3114e-336d-4f9d-a05b-21a6a9898c9a",
   "metadata": {},
   "outputs": [],
   "source": [
    " def get_customer_orders():\n",
    "    total_orders = int(input( \"Enter the number of customer orders:\"))\n",
    "    customer_orders = {input(\"Enter the name of the product: \") for order in range(total_orders)}      \n",
    "    return customer_orders"
   ]
  },
  {
   "cell_type": "code",
   "execution_count": 23,
   "id": "3d825e5f-9d8c-42c7-a2cc-19d20bf0e4e0",
   "metadata": {},
   "outputs": [],
   "source": [
    "def calculate_total_price(customer_orders):\n",
    "    prices = [int(input(f\"Enter price of {order}: \")) for order in customer_orders ]\n",
    "    return sum(prices)"
   ]
  },
  {
   "cell_type": "code",
   "execution_count": 18,
   "id": "1f69e5da-1453-4778-99e8-9022ba62cdbd",
   "metadata": {},
   "outputs": [],
   "source": [
    "def calculate_order_statistics(customer_orders, products):\n",
    "    total_orders = len(customer_orders)\n",
    "    percentage_unique_products = (len(customer_orders) / len(products)) * 100\n",
    "    return total_orders, percentage_unique_products"
   ]
  },
  {
   "cell_type": "code",
   "execution_count": 19,
   "id": "510e8a71-72aa-486d-ad41-a783563e0328",
   "metadata": {},
   "outputs": [],
   "source": [
    "def update_inventory(customer_orders, inventory):\n",
    "    updated_inventory = {key : value - 1 if key in customer_orders else value for key, value in inventory.items() if value - 1 > 0 }\n",
    "    return updated_inventory"
   ]
  },
  {
   "cell_type": "code",
   "execution_count": 20,
   "id": "08a2171b-ce62-4d08-ad8c-34ace82fc717",
   "metadata": {},
   "outputs": [],
   "source": [
    "def print_order_statistics(order_statistics):\n",
    "    print(order_statistics)"
   ]
  },
  {
   "cell_type": "code",
   "execution_count": 21,
   "id": "38425c9e-e3c1-44c1-9f8a-66098219a18c",
   "metadata": {},
   "outputs": [],
   "source": [
    "def print_updated_inventory(inventory):\n",
    "    print(inventory)"
   ]
  },
  {
   "cell_type": "code",
   "execution_count": 24,
   "id": "8c14a847-da97-4674-9608-7037b6d8f0c2",
   "metadata": {},
   "outputs": [
    {
     "name": "stdin",
     "output_type": "stream",
     "text": [
      "Enter the quantity of t-shirt available: 54\n",
      "Enter the quantity of hat available: 85\n",
      "Enter the quantity of mug available: 47\n",
      "Enter the quantity of book available: 96\n",
      "Enter the number of customer orders: 3\n",
      "Enter the name of the product:  book\n",
      "Enter the name of the product:  hat\n",
      "Enter the name of the product:  mug\n",
      "Enter price of mug:  2\n",
      "Enter price of hat:  3\n",
      "Enter price of book:  10\n"
     ]
    },
    {
     "name": "stdout",
     "output_type": "stream",
     "text": [
      "15\n",
      "Total Products Ordered: 3\n",
      "Percentage of Products Ordered: 75.0\n",
      "{'t-shirt': 54, 'hat': 84, 'mug': 46, 'book': 95}\n"
     ]
    }
   ],
   "source": [
    "products = [\"t-shirt\", \"hat\", \"mug\", \"book\"]\n",
    "inventory = initialize_inventory(products)\n",
    "customer_orders = get_customer_orders()\n",
    "print(calculate_total_price(customer_orders))\n",
    "updated_inventory = update_inventory(customer_orders, inventory)\n",
    "total_orders, percentage = calculate_order_statistics(customer_orders, products)\n",
    "statistics = f\"Total Products Ordered: {total_orders}\\nPercentage of Products Ordered: {percentage}\"\n",
    "print_order_statistics(statistics)\n",
    "print_updated_inventory(updated_inventory)"
   ]
  },
  {
   "cell_type": "code",
   "execution_count": null,
   "id": "8f0efaa3-3aef-42a1-8b2c-e6ef39df2e39",
   "metadata": {},
   "outputs": [],
   "source": []
  }
 ],
 "metadata": {
  "kernelspec": {
   "display_name": "Python 3 (ipykernel)",
   "language": "python",
   "name": "python3"
  },
  "language_info": {
   "codemirror_mode": {
    "name": "ipython",
    "version": 3
   },
   "file_extension": ".py",
   "mimetype": "text/x-python",
   "name": "python",
   "nbconvert_exporter": "python",
   "pygments_lexer": "ipython3",
   "version": "3.11.7"
  }
 },
 "nbformat": 4,
 "nbformat_minor": 5
}
